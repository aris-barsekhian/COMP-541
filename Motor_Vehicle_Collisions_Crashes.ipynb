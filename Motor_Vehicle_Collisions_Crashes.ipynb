{
 "cells": [
  {
   "cell_type": "markdown",
   "id": "6584d5e4",
   "metadata": {},
   "source": [
    "# Assignment 4\n",
    "## Data set : Motor_Vehicle_Collision \n",
    "<hr style=\"border:1px solid black\">\n",
    "\n",
    "### Import Libraries :"
   ]
  },
  {
   "cell_type": "code",
   "execution_count": 1,
   "id": "2a3676e1",
   "metadata": {},
   "outputs": [],
   "source": [
    "import pandas as pd\n",
    "import numpy as np"
   ]
  },
  {
   "cell_type": "markdown",
   "id": "fd5c8616",
   "metadata": {},
   "source": [
    "### Load the Dataset :"
   ]
  },
  {
   "cell_type": "code",
   "execution_count": 2,
   "id": "aab6ad84",
   "metadata": {},
   "outputs": [],
   "source": [
    "df = pd.read_csv('Motor_Vehicle_Collisions_-_Crashes.csv', dtype={2: object}, low_memory=False)"
   ]
  },
  {
   "cell_type": "code",
   "execution_count": 3,
   "id": "868f2518",
   "metadata": {},
   "outputs": [
    {
     "data": {
      "text/html": [
       "<div>\n",
       "<style scoped>\n",
       "    .dataframe tbody tr th:only-of-type {\n",
       "        vertical-align: middle;\n",
       "    }\n",
       "\n",
       "    .dataframe tbody tr th {\n",
       "        vertical-align: top;\n",
       "    }\n",
       "\n",
       "    .dataframe thead th {\n",
       "        text-align: right;\n",
       "    }\n",
       "</style>\n",
       "<table border=\"1\" class=\"dataframe\">\n",
       "  <thead>\n",
       "    <tr style=\"text-align: right;\">\n",
       "      <th></th>\n",
       "      <th>CRASH DATE</th>\n",
       "      <th>CRASH TIME</th>\n",
       "      <th>BOROUGH</th>\n",
       "      <th>ZIP CODE</th>\n",
       "      <th>LATITUDE</th>\n",
       "      <th>LONGITUDE</th>\n",
       "      <th>LOCATION</th>\n",
       "      <th>ON STREET NAME</th>\n",
       "      <th>CROSS STREET NAME</th>\n",
       "      <th>OFF STREET NAME</th>\n",
       "      <th>...</th>\n",
       "      <th>CONTRIBUTING FACTOR VEHICLE 2</th>\n",
       "      <th>CONTRIBUTING FACTOR VEHICLE 3</th>\n",
       "      <th>CONTRIBUTING FACTOR VEHICLE 4</th>\n",
       "      <th>CONTRIBUTING FACTOR VEHICLE 5</th>\n",
       "      <th>COLLISION_ID</th>\n",
       "      <th>VEHICLE TYPE CODE 1</th>\n",
       "      <th>VEHICLE TYPE CODE 2</th>\n",
       "      <th>VEHICLE TYPE CODE 3</th>\n",
       "      <th>VEHICLE TYPE CODE 4</th>\n",
       "      <th>VEHICLE TYPE CODE 5</th>\n",
       "    </tr>\n",
       "  </thead>\n",
       "  <tbody>\n",
       "    <tr>\n",
       "      <th>0</th>\n",
       "      <td>09/11/2021</td>\n",
       "      <td>2:39</td>\n",
       "      <td>NaN</td>\n",
       "      <td>NaN</td>\n",
       "      <td>NaN</td>\n",
       "      <td>NaN</td>\n",
       "      <td>NaN</td>\n",
       "      <td>WHITESTONE EXPRESSWAY</td>\n",
       "      <td>20 AVENUE</td>\n",
       "      <td>NaN</td>\n",
       "      <td>...</td>\n",
       "      <td>Unspecified</td>\n",
       "      <td>NaN</td>\n",
       "      <td>NaN</td>\n",
       "      <td>NaN</td>\n",
       "      <td>4455765</td>\n",
       "      <td>Sedan</td>\n",
       "      <td>Sedan</td>\n",
       "      <td>NaN</td>\n",
       "      <td>NaN</td>\n",
       "      <td>NaN</td>\n",
       "    </tr>\n",
       "    <tr>\n",
       "      <th>1</th>\n",
       "      <td>03/26/2022</td>\n",
       "      <td>11:45</td>\n",
       "      <td>NaN</td>\n",
       "      <td>NaN</td>\n",
       "      <td>NaN</td>\n",
       "      <td>NaN</td>\n",
       "      <td>NaN</td>\n",
       "      <td>QUEENSBORO BRIDGE UPPER</td>\n",
       "      <td>NaN</td>\n",
       "      <td>NaN</td>\n",
       "      <td>...</td>\n",
       "      <td>NaN</td>\n",
       "      <td>NaN</td>\n",
       "      <td>NaN</td>\n",
       "      <td>NaN</td>\n",
       "      <td>4513547</td>\n",
       "      <td>Sedan</td>\n",
       "      <td>NaN</td>\n",
       "      <td>NaN</td>\n",
       "      <td>NaN</td>\n",
       "      <td>NaN</td>\n",
       "    </tr>\n",
       "    <tr>\n",
       "      <th>2</th>\n",
       "      <td>06/29/2022</td>\n",
       "      <td>6:55</td>\n",
       "      <td>NaN</td>\n",
       "      <td>NaN</td>\n",
       "      <td>NaN</td>\n",
       "      <td>NaN</td>\n",
       "      <td>NaN</td>\n",
       "      <td>THROGS NECK BRIDGE</td>\n",
       "      <td>NaN</td>\n",
       "      <td>NaN</td>\n",
       "      <td>...</td>\n",
       "      <td>Unspecified</td>\n",
       "      <td>NaN</td>\n",
       "      <td>NaN</td>\n",
       "      <td>NaN</td>\n",
       "      <td>4541903</td>\n",
       "      <td>Sedan</td>\n",
       "      <td>Pick-up Truck</td>\n",
       "      <td>NaN</td>\n",
       "      <td>NaN</td>\n",
       "      <td>NaN</td>\n",
       "    </tr>\n",
       "    <tr>\n",
       "      <th>3</th>\n",
       "      <td>09/11/2021</td>\n",
       "      <td>9:35</td>\n",
       "      <td>BROOKLYN</td>\n",
       "      <td>11208</td>\n",
       "      <td>40.667202</td>\n",
       "      <td>-73.866500</td>\n",
       "      <td>(40.667202, -73.8665)</td>\n",
       "      <td>NaN</td>\n",
       "      <td>NaN</td>\n",
       "      <td>1211      LORING AVENUE</td>\n",
       "      <td>...</td>\n",
       "      <td>NaN</td>\n",
       "      <td>NaN</td>\n",
       "      <td>NaN</td>\n",
       "      <td>NaN</td>\n",
       "      <td>4456314</td>\n",
       "      <td>Sedan</td>\n",
       "      <td>NaN</td>\n",
       "      <td>NaN</td>\n",
       "      <td>NaN</td>\n",
       "      <td>NaN</td>\n",
       "    </tr>\n",
       "    <tr>\n",
       "      <th>4</th>\n",
       "      <td>12/14/2021</td>\n",
       "      <td>8:13</td>\n",
       "      <td>BROOKLYN</td>\n",
       "      <td>11233</td>\n",
       "      <td>40.683304</td>\n",
       "      <td>-73.917274</td>\n",
       "      <td>(40.683304, -73.917274)</td>\n",
       "      <td>SARATOGA AVENUE</td>\n",
       "      <td>DECATUR STREET</td>\n",
       "      <td>NaN</td>\n",
       "      <td>...</td>\n",
       "      <td>NaN</td>\n",
       "      <td>NaN</td>\n",
       "      <td>NaN</td>\n",
       "      <td>NaN</td>\n",
       "      <td>4486609</td>\n",
       "      <td>NaN</td>\n",
       "      <td>NaN</td>\n",
       "      <td>NaN</td>\n",
       "      <td>NaN</td>\n",
       "      <td>NaN</td>\n",
       "    </tr>\n",
       "  </tbody>\n",
       "</table>\n",
       "<p>5 rows × 29 columns</p>\n",
       "</div>"
      ],
      "text/plain": [
       "   CRASH DATE CRASH TIME   BOROUGH ZIP CODE   LATITUDE  LONGITUDE  \\\n",
       "0  09/11/2021       2:39       NaN      NaN        NaN        NaN   \n",
       "1  03/26/2022      11:45       NaN      NaN        NaN        NaN   \n",
       "2  06/29/2022       6:55       NaN      NaN        NaN        NaN   \n",
       "3  09/11/2021       9:35  BROOKLYN    11208  40.667202 -73.866500   \n",
       "4  12/14/2021       8:13  BROOKLYN    11233  40.683304 -73.917274   \n",
       "\n",
       "                  LOCATION           ON STREET NAME CROSS STREET NAME  \\\n",
       "0                      NaN    WHITESTONE EXPRESSWAY         20 AVENUE   \n",
       "1                      NaN  QUEENSBORO BRIDGE UPPER               NaN   \n",
       "2                      NaN       THROGS NECK BRIDGE               NaN   \n",
       "3    (40.667202, -73.8665)                      NaN               NaN   \n",
       "4  (40.683304, -73.917274)          SARATOGA AVENUE    DECATUR STREET   \n",
       "\n",
       "           OFF STREET NAME  ...  CONTRIBUTING FACTOR VEHICLE 2  \\\n",
       "0                      NaN  ...                    Unspecified   \n",
       "1                      NaN  ...                            NaN   \n",
       "2                      NaN  ...                    Unspecified   \n",
       "3  1211      LORING AVENUE  ...                            NaN   \n",
       "4                      NaN  ...                            NaN   \n",
       "\n",
       "   CONTRIBUTING FACTOR VEHICLE 3  CONTRIBUTING FACTOR VEHICLE 4  \\\n",
       "0                            NaN                            NaN   \n",
       "1                            NaN                            NaN   \n",
       "2                            NaN                            NaN   \n",
       "3                            NaN                            NaN   \n",
       "4                            NaN                            NaN   \n",
       "\n",
       "   CONTRIBUTING FACTOR VEHICLE 5  COLLISION_ID  VEHICLE TYPE CODE 1  \\\n",
       "0                            NaN       4455765                Sedan   \n",
       "1                            NaN       4513547                Sedan   \n",
       "2                            NaN       4541903                Sedan   \n",
       "3                            NaN       4456314                Sedan   \n",
       "4                            NaN       4486609                  NaN   \n",
       "\n",
       "   VEHICLE TYPE CODE 2  VEHICLE TYPE CODE 3 VEHICLE TYPE CODE 4  \\\n",
       "0                Sedan                  NaN                 NaN   \n",
       "1                  NaN                  NaN                 NaN   \n",
       "2        Pick-up Truck                  NaN                 NaN   \n",
       "3                  NaN                  NaN                 NaN   \n",
       "4                  NaN                  NaN                 NaN   \n",
       "\n",
       "  VEHICLE TYPE CODE 5  \n",
       "0                 NaN  \n",
       "1                 NaN  \n",
       "2                 NaN  \n",
       "3                 NaN  \n",
       "4                 NaN  \n",
       "\n",
       "[5 rows x 29 columns]"
      ]
     },
     "execution_count": 3,
     "metadata": {},
     "output_type": "execute_result"
    }
   ],
   "source": [
    "df.head()"
   ]
  },
  {
   "cell_type": "markdown",
   "id": "0c9a69c1",
   "metadata": {},
   "source": [
    "## DataFrame Summary Before Data Cleaning"
   ]
  },
  {
   "cell_type": "markdown",
   "id": "cc77ad77",
   "metadata": {},
   "source": [
    "### Explore the Data :\n",
    "#### DataFrame structure and data types before data cleaning"
   ]
  },
  {
   "cell_type": "code",
   "execution_count": 4,
   "id": "d876c13c",
   "metadata": {},
   "outputs": [
    {
     "name": "stdout",
     "output_type": "stream",
     "text": [
      "<class 'pandas.core.frame.DataFrame'>\n",
      "RangeIndex: 2033266 entries, 0 to 2033265\n",
      "Data columns (total 29 columns):\n",
      " #   Column                         Dtype  \n",
      "---  ------                         -----  \n",
      " 0   CRASH DATE                     object \n",
      " 1   CRASH TIME                     object \n",
      " 2   BOROUGH                        object \n",
      " 3   ZIP CODE                       object \n",
      " 4   LATITUDE                       float64\n",
      " 5   LONGITUDE                      float64\n",
      " 6   LOCATION                       object \n",
      " 7   ON STREET NAME                 object \n",
      " 8   CROSS STREET NAME              object \n",
      " 9   OFF STREET NAME                object \n",
      " 10  NUMBER OF PERSONS INJURED      float64\n",
      " 11  NUMBER OF PERSONS KILLED       float64\n",
      " 12  NUMBER OF PEDESTRIANS INJURED  int64  \n",
      " 13  NUMBER OF PEDESTRIANS KILLED   int64  \n",
      " 14  NUMBER OF CYCLIST INJURED      int64  \n",
      " 15  NUMBER OF CYCLIST KILLED       int64  \n",
      " 16  NUMBER OF MOTORIST INJURED     int64  \n",
      " 17  NUMBER OF MOTORIST KILLED      int64  \n",
      " 18  CONTRIBUTING FACTOR VEHICLE 1  object \n",
      " 19  CONTRIBUTING FACTOR VEHICLE 2  object \n",
      " 20  CONTRIBUTING FACTOR VEHICLE 3  object \n",
      " 21  CONTRIBUTING FACTOR VEHICLE 4  object \n",
      " 22  CONTRIBUTING FACTOR VEHICLE 5  object \n",
      " 23  COLLISION_ID                   int64  \n",
      " 24  VEHICLE TYPE CODE 1            object \n",
      " 25  VEHICLE TYPE CODE 2            object \n",
      " 26  VEHICLE TYPE CODE 3            object \n",
      " 27  VEHICLE TYPE CODE 4            object \n",
      " 28  VEHICLE TYPE CODE 5            object \n",
      "dtypes: float64(4), int64(7), object(18)\n",
      "memory usage: 449.9+ MB\n",
      "None\n"
     ]
    }
   ],
   "source": [
    "print(df.info())"
   ]
  },
  {
   "cell_type": "markdown",
   "id": "629332f5",
   "metadata": {},
   "source": [
    "## Data Transformation:\n",
    "###  Date handling"
   ]
  },
  {
   "cell_type": "code",
   "execution_count": 5,
   "id": "b7fa74d6",
   "metadata": {},
   "outputs": [
    {
     "data": {
      "text/plain": [
       "0    09/11/2021\n",
       "Name: CRASH DATE, dtype: object"
      ]
     },
     "execution_count": 5,
     "metadata": {},
     "output_type": "execute_result"
    }
   ],
   "source": [
    "df['CRASH DATE'].head(1)"
   ]
  },
  {
   "cell_type": "code",
   "execution_count": 6,
   "id": "0d4cafc4",
   "metadata": {},
   "outputs": [],
   "source": [
    "df['CRASH DATE'] = pd.to_datetime(df['CRASH DATE'])"
   ]
  },
  {
   "cell_type": "code",
   "execution_count": 7,
   "id": "1888f800",
   "metadata": {},
   "outputs": [
    {
     "data": {
      "text/plain": [
       "0   2021-09-11\n",
       "Name: CRASH DATE, dtype: datetime64[ns]"
      ]
     },
     "execution_count": 7,
     "metadata": {},
     "output_type": "execute_result"
    }
   ],
   "source": [
    "df['CRASH DATE'].head(1)"
   ]
  },
  {
   "cell_type": "markdown",
   "id": "4b2ba3de",
   "metadata": {},
   "source": [
    "### remove redundant columns"
   ]
  },
  {
   "cell_type": "code",
   "execution_count": 8,
   "id": "b14b12e1",
   "metadata": {},
   "outputs": [],
   "source": [
    "### Dropping : Latitude, Longitude, Location, On street name, Cross street name, Off street name, Collision_id\n"
   ]
  },
  {
   "cell_type": "code",
   "execution_count": 9,
   "id": "1afe2eae",
   "metadata": {},
   "outputs": [],
   "source": [
    "df = df.drop(['LATITUDE','LONGITUDE','LOCATION', 'ON STREET NAME', 'CROSS STREET NAME', 'OFF STREET NAME','COLLISION_ID'], axis=1)"
   ]
  },
  {
   "cell_type": "markdown",
   "id": "a8fda9c1",
   "metadata": {},
   "source": [
    "## Column list after drop"
   ]
  },
  {
   "cell_type": "code",
   "execution_count": 10,
   "id": "081c963a",
   "metadata": {},
   "outputs": [
    {
     "name": "stdout",
     "output_type": "stream",
     "text": [
      "                            Column\n",
      "0   CRASH DATE                    \n",
      "1   CRASH TIME                    \n",
      "2   BOROUGH                       \n",
      "3   ZIP CODE                      \n",
      "4   NUMBER OF PERSONS INJURED     \n",
      "5   NUMBER OF PERSONS KILLED      \n",
      "6   NUMBER OF PEDESTRIANS INJURED \n",
      "7   NUMBER OF PEDESTRIANS KILLED  \n",
      "8   NUMBER OF CYCLIST INJURED     \n",
      "9   NUMBER OF CYCLIST KILLED      \n",
      "10  NUMBER OF MOTORIST INJURED    \n",
      "11  NUMBER OF MOTORIST KILLED     \n",
      "12  CONTRIBUTING FACTOR VEHICLE 1 \n",
      "13  CONTRIBUTING FACTOR VEHICLE 2 \n",
      "14  CONTRIBUTING FACTOR VEHICLE 3 \n",
      "15  CONTRIBUTING FACTOR VEHICLE 4 \n",
      "16  CONTRIBUTING FACTOR VEHICLE 5 \n",
      "17  VEHICLE TYPE CODE 1           \n",
      "18  VEHICLE TYPE CODE 2           \n",
      "19  VEHICLE TYPE CODE 3           \n",
      "20  VEHICLE TYPE CODE 4           \n",
      "21  VEHICLE TYPE CODE 5           \n"
     ]
    }
   ],
   "source": [
    "column_list = df.columns.to_frame(index=False)\n",
    "column_list.rename(columns={0: 'Column'}, inplace=True)\n",
    "\n",
    "# Left-align the column names\n",
    "column_list['Column'] = column_list['Column'].apply(lambda x: x.ljust(30))\n",
    "\n",
    "print(column_list)"
   ]
  },
  {
   "cell_type": "markdown",
   "id": "0d8d7b52",
   "metadata": {},
   "source": [
    "## Missing Value Analysis: \n",
    "### Counting Missing Values\n"
   ]
  },
  {
   "cell_type": "code",
   "execution_count": 11,
   "id": "1c7d2415",
   "metadata": {},
   "outputs": [
    {
     "name": "stdout",
     "output_type": "stream",
     "text": [
      "CRASH DATE                             0\n",
      "CRASH TIME                             0\n",
      "BOROUGH                           632543\n",
      "ZIP CODE                          632784\n",
      "NUMBER OF PERSONS INJURED             18\n",
      "NUMBER OF PERSONS KILLED              31\n",
      "NUMBER OF PEDESTRIANS INJURED          0\n",
      "NUMBER OF PEDESTRIANS KILLED           0\n",
      "NUMBER OF CYCLIST INJURED              0\n",
      "NUMBER OF CYCLIST KILLED               0\n",
      "NUMBER OF MOTORIST INJURED             0\n",
      "NUMBER OF MOTORIST KILLED              0\n",
      "CONTRIBUTING FACTOR VEHICLE 1       6441\n",
      "CONTRIBUTING FACTOR VEHICLE 2     311291\n",
      "CONTRIBUTING FACTOR VEHICLE 3    1888793\n",
      "CONTRIBUTING FACTOR VEHICLE 4    2000813\n",
      "CONTRIBUTING FACTOR VEHICLE 5    2024485\n",
      "VEHICLE TYPE CODE 1                12905\n",
      "VEHICLE TYPE CODE 2               381860\n",
      "VEHICLE TYPE CODE 3              1893886\n",
      "VEHICLE TYPE CODE 4              2001901\n",
      "VEHICLE TYPE CODE 5              2024752\n",
      "dtype: int64\n"
     ]
    }
   ],
   "source": [
    "missing_values = df.isnull().sum()\n",
    "print(missing_values)"
   ]
  },
  {
   "cell_type": "markdown",
   "id": "c4a91fc7",
   "metadata": {},
   "source": [
    "### Handling Missing Values"
   ]
  },
  {
   "cell_type": "markdown",
   "id": "a5d3b1f9",
   "metadata": {},
   "source": [
    "## DROP \n",
    "### Zip code"
   ]
  },
  {
   "cell_type": "code",
   "execution_count": 12,
   "id": "42519693",
   "metadata": {},
   "outputs": [],
   "source": [
    "# Remove rows with missing values in the 'ZIP CODE' column\n",
    "df.dropna(subset=[\"ZIP CODE\"], inplace=True)\n",
    "\n",
    "# Reset the DataFrame's index\n",
    "df.reset_index(drop=True, inplace=True)"
   ]
  },
  {
   "cell_type": "code",
   "execution_count": 13,
   "id": "1f5d3c37",
   "metadata": {},
   "outputs": [
    {
     "name": "stdout",
     "output_type": "stream",
     "text": [
      "0\n"
     ]
    }
   ],
   "source": [
    "missing_values = df.isnull().sum()\n",
    "print(missing_values['ZIP CODE'])"
   ]
  },
  {
   "cell_type": "markdown",
   "id": "fba84ef0",
   "metadata": {},
   "source": [
    "## REPLACING"
   ]
  },
  {
   "cell_type": "markdown",
   "id": "2227d276",
   "metadata": {},
   "source": [
    "### CHeck missung values"
   ]
  },
  {
   "cell_type": "code",
   "execution_count": 14,
   "id": "420a0a1c",
   "metadata": {},
   "outputs": [
    {
     "name": "stdout",
     "output_type": "stream",
     "text": [
      "CRASH DATE                             0\n",
      "CRASH TIME                             0\n",
      "BOROUGH                                0\n",
      "ZIP CODE                               0\n",
      "NUMBER OF PERSONS INJURED             11\n",
      "NUMBER OF PERSONS KILLED              23\n",
      "NUMBER OF PEDESTRIANS INJURED          0\n",
      "NUMBER OF PEDESTRIANS KILLED           0\n",
      "NUMBER OF CYCLIST INJURED              0\n",
      "NUMBER OF CYCLIST KILLED               0\n",
      "NUMBER OF MOTORIST INJURED             0\n",
      "NUMBER OF MOTORIST KILLED              0\n",
      "CONTRIBUTING FACTOR VEHICLE 1       4953\n",
      "CONTRIBUTING FACTOR VEHICLE 2     226553\n",
      "CONTRIBUTING FACTOR VEHICLE 3    1314069\n",
      "CONTRIBUTING FACTOR VEHICLE 4    1380253\n",
      "CONTRIBUTING FACTOR VEHICLE 5    1394727\n",
      "VEHICLE TYPE CODE 1                 9701\n",
      "VEHICLE TYPE CODE 2               275377\n",
      "VEHICLE TYPE CODE 3              1316984\n",
      "VEHICLE TYPE CODE 4              1380836\n",
      "VEHICLE TYPE CODE 5              1394870\n",
      "dtype: int64\n"
     ]
    }
   ],
   "source": [
    "missing_values = df.isnull().sum()\n",
    "print(missing_values)"
   ]
  },
  {
   "cell_type": "code",
   "execution_count": 15,
   "id": "8f42462b",
   "metadata": {},
   "outputs": [],
   "source": [
    "# Dropping rows with null values in columns 'NUMBER OF PERSONS INJURED' and 'NUMBER OF PERSONS KILLED'\n",
    "df = df.dropna(subset=['NUMBER OF PERSONS INJURED', 'NUMBER OF PERSONS KILLED'])\n"
   ]
  },
  {
   "cell_type": "markdown",
   "id": "3d11e55d",
   "metadata": {},
   "source": [
    "### CHeck missung values"
   ]
  },
  {
   "cell_type": "code",
   "execution_count": 16,
   "id": "e32beb46",
   "metadata": {},
   "outputs": [
    {
     "name": "stdout",
     "output_type": "stream",
     "text": [
      "CRASH DATE                             0\n",
      "CRASH TIME                             0\n",
      "BOROUGH                                0\n",
      "ZIP CODE                               0\n",
      "NUMBER OF PERSONS INJURED              0\n",
      "NUMBER OF PERSONS KILLED               0\n",
      "NUMBER OF PEDESTRIANS INJURED          0\n",
      "NUMBER OF PEDESTRIANS KILLED           0\n",
      "NUMBER OF CYCLIST INJURED              0\n",
      "NUMBER OF CYCLIST KILLED               0\n",
      "NUMBER OF MOTORIST INJURED             0\n",
      "NUMBER OF MOTORIST KILLED              0\n",
      "CONTRIBUTING FACTOR VEHICLE 1       4948\n",
      "CONTRIBUTING FACTOR VEHICLE 2     226532\n",
      "CONTRIBUTING FACTOR VEHICLE 3    1314043\n",
      "CONTRIBUTING FACTOR VEHICLE 4    1380227\n",
      "CONTRIBUTING FACTOR VEHICLE 5    1394701\n",
      "VEHICLE TYPE CODE 1                 9697\n",
      "VEHICLE TYPE CODE 2               275355\n",
      "VEHICLE TYPE CODE 3              1316958\n",
      "VEHICLE TYPE CODE 4              1380810\n",
      "VEHICLE TYPE CODE 5              1394844\n",
      "dtype: int64\n"
     ]
    }
   ],
   "source": [
    "missing_values = df.isnull().sum()\n",
    "print(missing_values)"
   ]
  },
  {
   "cell_type": "markdown",
   "id": "898e471b",
   "metadata": {},
   "source": [
    "### CONTRIBUTING FACTOR VEHICLE 1\n",
    "## Replace it with \"Unspecified\""
   ]
  },
  {
   "cell_type": "code",
   "execution_count": 17,
   "id": "4d28c275",
   "metadata": {},
   "outputs": [
    {
     "name": "stdout",
     "output_type": "stream",
     "text": [
      "Null values in CONTRIBUTING FACTOR VEHICLE 1 when all other factors are null: 4948\n"
     ]
    }
   ],
   "source": [
    "# Create a mask to check if all contributing factors are null\n",
    "mask = df[['CONTRIBUTING FACTOR VEHICLE 2', 'CONTRIBUTING FACTOR VEHICLE 3', 'CONTRIBUTING FACTOR VEHICLE 4', 'CONTRIBUTING FACTOR VEHICLE 5']].isnull().all(axis=1)\n",
    "\n",
    "# Count the number of null values in CONTRIBUTING FACTOR VEHICLE 1 when the mask is True\n",
    "null_count = df['CONTRIBUTING FACTOR VEHICLE 1'][mask].isnull().sum()\n",
    "\n",
    "print(\"Null values in CONTRIBUTING FACTOR VEHICLE 1 when all other factors are null:\", null_count)\n"
   ]
  },
  {
   "cell_type": "code",
   "execution_count": 18,
   "id": "55360389",
   "metadata": {},
   "outputs": [],
   "source": [
    "# Create a mask to check if all contributing factors for VEHICLE 1 to 5 are null\n",
    "mask = df[['CONTRIBUTING FACTOR VEHICLE 1', 'CONTRIBUTING FACTOR VEHICLE 2', 'CONTRIBUTING FACTOR VEHICLE 3', 'CONTRIBUTING FACTOR VEHICLE 4', 'CONTRIBUTING FACTOR VEHICLE 5']].isnull().all(axis=1)\n",
    "\n",
    "# Replace values in CONTRIBUTING FACTOR VEHICLE 1 to 5 with \"Unspecified\" where the mask is True\n",
    "df.loc[mask, 'CONTRIBUTING FACTOR VEHICLE 1':'CONTRIBUTING FACTOR VEHICLE 5'] = 'Unspecified'\n"
   ]
  },
  {
   "cell_type": "markdown",
   "id": "6fdbeaa1",
   "metadata": {},
   "source": [
    "### CHeck missung values"
   ]
  },
  {
   "cell_type": "code",
   "execution_count": 19,
   "id": "5ee4678f",
   "metadata": {},
   "outputs": [
    {
     "name": "stdout",
     "output_type": "stream",
     "text": [
      "CRASH DATE                             0\n",
      "CRASH TIME                             0\n",
      "BOROUGH                                0\n",
      "ZIP CODE                               0\n",
      "NUMBER OF PERSONS INJURED              0\n",
      "NUMBER OF PERSONS KILLED               0\n",
      "NUMBER OF PEDESTRIANS INJURED          0\n",
      "NUMBER OF PEDESTRIANS KILLED           0\n",
      "NUMBER OF CYCLIST INJURED              0\n",
      "NUMBER OF CYCLIST KILLED               0\n",
      "NUMBER OF MOTORIST INJURED             0\n",
      "NUMBER OF MOTORIST KILLED              0\n",
      "CONTRIBUTING FACTOR VEHICLE 1          0\n",
      "CONTRIBUTING FACTOR VEHICLE 2     221584\n",
      "CONTRIBUTING FACTOR VEHICLE 3    1309095\n",
      "CONTRIBUTING FACTOR VEHICLE 4    1375279\n",
      "CONTRIBUTING FACTOR VEHICLE 5    1389753\n",
      "VEHICLE TYPE CODE 1                 9697\n",
      "VEHICLE TYPE CODE 2               275355\n",
      "VEHICLE TYPE CODE 3              1316958\n",
      "VEHICLE TYPE CODE 4              1380810\n",
      "VEHICLE TYPE CODE 5              1394844\n",
      "dtype: int64\n"
     ]
    }
   ],
   "source": [
    "missing_values = df.isnull().sum()\n",
    "print(missing_values)"
   ]
  },
  {
   "cell_type": "markdown",
   "id": "82f3c58a",
   "metadata": {},
   "source": [
    "------"
   ]
  },
  {
   "cell_type": "markdown",
   "id": "fe658b2d",
   "metadata": {},
   "source": [
    "### CONTRIBUTING FACTOR VEHICLE 2\n",
    "### Replace it with \"Unspecified\""
   ]
  },
  {
   "cell_type": "code",
   "execution_count": 20,
   "id": "9d72c210",
   "metadata": {},
   "outputs": [
    {
     "name": "stdout",
     "output_type": "stream",
     "text": [
      "All values in CONTRIBUTING FACTOR VEHICLE 2 are null when CONTRIBUTING FACTOR VEHICLE 3-5 are null.\n",
      "Number of cases when CONTRIBUTING FACTOR VEHICLE 3-5 are null: 221584\n"
     ]
    }
   ],
   "source": [
    "# Create a mask to check if all \"CONTRIBUTING FACTOR VEHICLE 3-5\" are null\n",
    "mask = df[['CONTRIBUTING FACTOR VEHICLE 2', 'CONTRIBUTING FACTOR VEHICLE 3', 'CONTRIBUTING FACTOR VEHICLE 4', 'CONTRIBUTING FACTOR VEHICLE 5']].isnull().all(axis=1)\n",
    "\n",
    "# Check if there are any non-null values in \"CONTRIBUTING FACTOR VEHICLE 2\" when \"CONTRIBUTING FACTOR VEHICLE 3-5\" are null\n",
    "non_null_count = df['CONTRIBUTING FACTOR VEHICLE 2'][mask].count()\n",
    "\n",
    "# Count the number of cases when \"CONTRIBUTING FACTOR VEHICLE 2-5\" are null\n",
    "count_contributing_factors_2_to_5_null = mask.sum()\n",
    "\n",
    "if non_null_count > 0:\n",
    "    print(\"Non-null values in CONTRIBUTING FACTOR VEHICLE 2 when CONTRIBUTING FACTOR VEHICLE 3-5 are null.\")\n",
    "else:\n",
    "    print(\"All values in CONTRIBUTING FACTOR VEHICLE 2 are null when CONTRIBUTING FACTOR VEHICLE 3-5 are null.\")\n",
    "\n",
    "print(f\"Number of cases when CONTRIBUTING FACTOR VEHICLE 3-5 are null: {count_contributing_factors_2_to_5_null}\")\n"
   ]
  },
  {
   "cell_type": "code",
   "execution_count": 21,
   "id": "734793b0",
   "metadata": {},
   "outputs": [],
   "source": [
    "# Create a mask for checking if all \"CONTRIBUTING FACTOR VEHICLE 2-5\" are null\n",
    "mask = df[['CONTRIBUTING FACTOR VEHICLE 2', 'CONTRIBUTING FACTOR VEHICLE 3', 'CONTRIBUTING FACTOR VEHICLE 4', 'CONTRIBUTING FACTOR VEHICLE 5']].isnull().all(axis=1)\n",
    "\n",
    "# Replace null values in \"CONTRIBUTING FACTOR VEHICLE 2-5\" with \"Unspecified\" where the mask is True\n",
    "df.loc[mask, ['CONTRIBUTING FACTOR VEHICLE 2', 'CONTRIBUTING FACTOR VEHICLE 3', 'CONTRIBUTING FACTOR VEHICLE 4', 'CONTRIBUTING FACTOR VEHICLE 5']] = 'Unspecified'\n"
   ]
  },
  {
   "cell_type": "code",
   "execution_count": 22,
   "id": "3b91377e",
   "metadata": {},
   "outputs": [
    {
     "name": "stdout",
     "output_type": "stream",
     "text": [
      "CRASH DATE                             0\n",
      "CRASH TIME                             0\n",
      "BOROUGH                                0\n",
      "ZIP CODE                               0\n",
      "NUMBER OF PERSONS INJURED              0\n",
      "NUMBER OF PERSONS KILLED               0\n",
      "NUMBER OF PEDESTRIANS INJURED          0\n",
      "NUMBER OF PEDESTRIANS KILLED           0\n",
      "NUMBER OF CYCLIST INJURED              0\n",
      "NUMBER OF CYCLIST KILLED               0\n",
      "NUMBER OF MOTORIST INJURED             0\n",
      "NUMBER OF MOTORIST KILLED              0\n",
      "CONTRIBUTING FACTOR VEHICLE 1          0\n",
      "CONTRIBUTING FACTOR VEHICLE 2          0\n",
      "CONTRIBUTING FACTOR VEHICLE 3    1087511\n",
      "CONTRIBUTING FACTOR VEHICLE 4    1153695\n",
      "CONTRIBUTING FACTOR VEHICLE 5    1168169\n",
      "VEHICLE TYPE CODE 1                 9697\n",
      "VEHICLE TYPE CODE 2               275355\n",
      "VEHICLE TYPE CODE 3              1316958\n",
      "VEHICLE TYPE CODE 4              1380810\n",
      "VEHICLE TYPE CODE 5              1394844\n",
      "dtype: int64\n"
     ]
    }
   ],
   "source": [
    "missing_values = df.isnull().sum()\n",
    "print(missing_values)"
   ]
  },
  {
   "cell_type": "markdown",
   "id": "abe54a32",
   "metadata": {},
   "source": [
    "------"
   ]
  },
  {
   "cell_type": "markdown",
   "id": "90bfe557",
   "metadata": {},
   "source": [
    "### CONTRIBUTING FACTOR VEHICLE 3\n",
    "### Replace it with \"Unspecified\""
   ]
  },
  {
   "cell_type": "code",
   "execution_count": 23,
   "id": "d2c898b9",
   "metadata": {},
   "outputs": [
    {
     "name": "stdout",
     "output_type": "stream",
     "text": [
      "All values in CONTRIBUTING FACTOR VEHICLE 3 are null when CONTRIBUTING FACTOR VEHICLE 4-5 are null.\n",
      "Number of cases when CONTRIBUTING FACTOR VEHICLE 4-5 are null: 1087511\n"
     ]
    }
   ],
   "source": [
    "# Create a mask to check if all \"CONTRIBUTING FACTOR VEHICLE 3-5\" are null\n",
    "mask = df[['CONTRIBUTING FACTOR VEHICLE 3', 'CONTRIBUTING FACTOR VEHICLE 4', 'CONTRIBUTING FACTOR VEHICLE 5']].isnull().all(axis=1)\n",
    "\n",
    "# Check if there are any non-null values in \"CONTRIBUTING FACTOR VEHICLE 3\" when \"CONTRIBUTING FACTOR VEHICLE 4-5\" are null\n",
    "if df['CONTRIBUTING FACTOR VEHICLE 3'][mask].count() > 0:\n",
    "    print(\"Non-null values in CONTRIBUTING FACTOR VEHICLE 3 when CONTRIBUTING FACTOR VEHICLE 4-5 are null.\")\n",
    "else:\n",
    "    print(\"All values in CONTRIBUTING FACTOR VEHICLE 3 are null when CONTRIBUTING FACTOR VEHICLE 4-5 are null.\")\n",
    "\n",
    "print(f\"Number of cases when CONTRIBUTING FACTOR VEHICLE 4-5 are null: {mask.sum()}\")\n"
   ]
  },
  {
   "cell_type": "code",
   "execution_count": 24,
   "id": "e5380e73",
   "metadata": {},
   "outputs": [],
   "source": [
    "# Create a mask to check if all \"CONTRIBUTING FACTOR VEHICLE 3-5\" are null\n",
    "mask = df[['CONTRIBUTING FACTOR VEHICLE 3', 'CONTRIBUTING FACTOR VEHICLE 4', 'CONTRIBUTING FACTOR VEHICLE 5']].isnull().all(axis=1)\n",
    "\n",
    "# Replace null values in \"CONTRIBUTING FACTOR VEHICLE 3-5\" with \"Unspecified\" where the mask is True\n",
    "df.loc[mask, ['CONTRIBUTING FACTOR VEHICLE 3', 'CONTRIBUTING FACTOR VEHICLE 4', 'CONTRIBUTING FACTOR VEHICLE 5']] = 'Unspecified'\n"
   ]
  },
  {
   "cell_type": "code",
   "execution_count": 25,
   "id": "558680c2",
   "metadata": {},
   "outputs": [
    {
     "name": "stdout",
     "output_type": "stream",
     "text": [
      "CRASH DATE                             0\n",
      "CRASH TIME                             0\n",
      "BOROUGH                                0\n",
      "ZIP CODE                               0\n",
      "NUMBER OF PERSONS INJURED              0\n",
      "NUMBER OF PERSONS KILLED               0\n",
      "NUMBER OF PEDESTRIANS INJURED          0\n",
      "NUMBER OF PEDESTRIANS KILLED           0\n",
      "NUMBER OF CYCLIST INJURED              0\n",
      "NUMBER OF CYCLIST KILLED               0\n",
      "NUMBER OF MOTORIST INJURED             0\n",
      "NUMBER OF MOTORIST KILLED              0\n",
      "CONTRIBUTING FACTOR VEHICLE 1          0\n",
      "CONTRIBUTING FACTOR VEHICLE 2          0\n",
      "CONTRIBUTING FACTOR VEHICLE 3          0\n",
      "CONTRIBUTING FACTOR VEHICLE 4      66184\n",
      "CONTRIBUTING FACTOR VEHICLE 5      80658\n",
      "VEHICLE TYPE CODE 1                 9697\n",
      "VEHICLE TYPE CODE 2               275355\n",
      "VEHICLE TYPE CODE 3              1316958\n",
      "VEHICLE TYPE CODE 4              1380810\n",
      "VEHICLE TYPE CODE 5              1394844\n",
      "dtype: int64\n"
     ]
    }
   ],
   "source": [
    "missing_values = df.isnull().sum()\n",
    "print(missing_values)"
   ]
  },
  {
   "cell_type": "markdown",
   "id": "9dec31d7",
   "metadata": {},
   "source": [
    "----"
   ]
  },
  {
   "cell_type": "markdown",
   "id": "90ecd1e3",
   "metadata": {},
   "source": [
    "### CONTRIBUTING FACTOR VEHICLE 4\n",
    "### Replace it with \"Unspecified\""
   ]
  },
  {
   "cell_type": "code",
   "execution_count": 26,
   "id": "34e59b7f",
   "metadata": {},
   "outputs": [
    {
     "name": "stdout",
     "output_type": "stream",
     "text": [
      "All values in CONTRIBUTING FACTOR VEHICLE 4 are null when CONTRIBUTING FACTOR VEHICLE 5 is null.\n",
      "Number of cases when CONTRIBUTING FACTOR VEHICLE 4-5 are null: 66184\n"
     ]
    }
   ],
   "source": [
    "# Create a mask to check if both \"CONTRIBUTING FACTOR VEHICLE 4\" and \"CONTRIBUTING FACTOR VEHICLE 5\" are null\n",
    "mask = df['CONTRIBUTING FACTOR VEHICLE 4'].isnull() & df['CONTRIBUTING FACTOR VEHICLE 5'].isnull()\n",
    "\n",
    "# Count the number of non-null values in \"CONTRIBUTING FACTOR VEHICLE 4\" when the mask is True\n",
    "non_null_count = df['CONTRIBUTING FACTOR VEHICLE 4'][mask].count()\n",
    "\n",
    "# Count the number of cases when \"CONTRIBUTING FACTOR VEHICLE 4-5\" are null\n",
    "count_contributing_factors_4_to_5_null = mask.sum()\n",
    "\n",
    "if non_null_count > 0:\n",
    "    print(\"Non-null values in CONTRIBUTING FACTOR VEHICLE 4 when CONTRIBUTING FACTOR VEHICLE 5 is null.\")\n",
    "else:\n",
    "    print(\"All values in CONTRIBUTING FACTOR VEHICLE 4 are null when CONTRIBUTING FACTOR VEHICLE 5 is null.\")\n",
    "\n",
    "print(f\"Number of cases when CONTRIBUTING FACTOR VEHICLE 4-5 are null: {count_contributing_factors_4_to_5_null}\")\n"
   ]
  },
  {
   "cell_type": "code",
   "execution_count": 27,
   "id": "fe36b1e5",
   "metadata": {},
   "outputs": [],
   "source": [
    "# Create a mask to check if both \"CONTRIBUTING FACTOR VEHICLE 4\" and \"CONTRIBUTING FACTOR VEHICLE 5\" are null\n",
    "mask = df['CONTRIBUTING FACTOR VEHICLE 4'].isnull() & df['CONTRIBUTING FACTOR VEHICLE 5'].isnull()\n",
    "\n",
    "# Replace null values in \"CONTRIBUTING FACTOR VEHICLE 4-5\" with 'Unspecified' where the mask is True\n",
    "df.loc[mask, ['CONTRIBUTING FACTOR VEHICLE 4', 'CONTRIBUTING FACTOR VEHICLE 5']] = 'Unspecified'\n"
   ]
  },
  {
   "cell_type": "code",
   "execution_count": 28,
   "id": "ce8e350f",
   "metadata": {},
   "outputs": [
    {
     "name": "stdout",
     "output_type": "stream",
     "text": [
      "CRASH DATE                             0\n",
      "CRASH TIME                             0\n",
      "BOROUGH                                0\n",
      "ZIP CODE                               0\n",
      "NUMBER OF PERSONS INJURED              0\n",
      "NUMBER OF PERSONS KILLED               0\n",
      "NUMBER OF PEDESTRIANS INJURED          0\n",
      "NUMBER OF PEDESTRIANS KILLED           0\n",
      "NUMBER OF CYCLIST INJURED              0\n",
      "NUMBER OF CYCLIST KILLED               0\n",
      "NUMBER OF MOTORIST INJURED             0\n",
      "NUMBER OF MOTORIST KILLED              0\n",
      "CONTRIBUTING FACTOR VEHICLE 1          0\n",
      "CONTRIBUTING FACTOR VEHICLE 2          0\n",
      "CONTRIBUTING FACTOR VEHICLE 3          0\n",
      "CONTRIBUTING FACTOR VEHICLE 4          0\n",
      "CONTRIBUTING FACTOR VEHICLE 5      14474\n",
      "VEHICLE TYPE CODE 1                 9697\n",
      "VEHICLE TYPE CODE 2               275355\n",
      "VEHICLE TYPE CODE 3              1316958\n",
      "VEHICLE TYPE CODE 4              1380810\n",
      "VEHICLE TYPE CODE 5              1394844\n",
      "dtype: int64\n"
     ]
    }
   ],
   "source": [
    "missing_values = df.isnull().sum()\n",
    "print(missing_values)"
   ]
  },
  {
   "cell_type": "markdown",
   "id": "8cb3636c",
   "metadata": {},
   "source": [
    "--------"
   ]
  },
  {
   "cell_type": "markdown",
   "id": "96ba4560",
   "metadata": {},
   "source": [
    "### CONTRIBUTING FACTOR VEHICLE 5\n",
    "### Replace it with \"Unspecified\""
   ]
  },
  {
   "cell_type": "code",
   "execution_count": 29,
   "id": "a52bd779",
   "metadata": {},
   "outputs": [
    {
     "name": "stdout",
     "output_type": "stream",
     "text": [
      "Number of null values in CONTRIBUTING FACTOR VEHICLE 5 when any of CONTRIBUTING FACTOR VEHICLE 1-4 or 5 is not null: 14474\n"
     ]
    }
   ],
   "source": [
    "# Create a mask to check if \"CONTRIBUTING FACTOR VEHICLE 5\" is null\n",
    "mask_vehicle_5_null = df['CONTRIBUTING FACTOR VEHICLE 5'].isnull()\n",
    "\n",
    "# Count the number of null values in \"CONTRIBUTING FACTOR VEHICLE 5\" when any of \"CONTRIBUTING FACTOR VEHICLE 1-4\" or \"CONTRIBUTING FACTOR VEHICLE 5\" is not null\n",
    "count_null_values = mask_vehicle_5_null.sum()\n",
    "\n",
    "print(f\"Number of null values in CONTRIBUTING FACTOR VEHICLE 5 when any of CONTRIBUTING FACTOR VEHICLE 1-4 or 5 is not null: {count_null_values}\")\n"
   ]
  },
  {
   "cell_type": "code",
   "execution_count": 30,
   "id": "bba802d8",
   "metadata": {},
   "outputs": [],
   "source": [
    "# Replace all null values in \"CONTRIBUTING FACTOR VEHICLE 5\" with 'Unspecified'\n",
    "df['CONTRIBUTING FACTOR VEHICLE 5'].fillna('Unspecified', inplace=True)\n"
   ]
  },
  {
   "cell_type": "code",
   "execution_count": 31,
   "id": "d5dedf61",
   "metadata": {},
   "outputs": [
    {
     "name": "stdout",
     "output_type": "stream",
     "text": [
      "CRASH DATE                             0\n",
      "CRASH TIME                             0\n",
      "BOROUGH                                0\n",
      "ZIP CODE                               0\n",
      "NUMBER OF PERSONS INJURED              0\n",
      "NUMBER OF PERSONS KILLED               0\n",
      "NUMBER OF PEDESTRIANS INJURED          0\n",
      "NUMBER OF PEDESTRIANS KILLED           0\n",
      "NUMBER OF CYCLIST INJURED              0\n",
      "NUMBER OF CYCLIST KILLED               0\n",
      "NUMBER OF MOTORIST INJURED             0\n",
      "NUMBER OF MOTORIST KILLED              0\n",
      "CONTRIBUTING FACTOR VEHICLE 1          0\n",
      "CONTRIBUTING FACTOR VEHICLE 2          0\n",
      "CONTRIBUTING FACTOR VEHICLE 3          0\n",
      "CONTRIBUTING FACTOR VEHICLE 4          0\n",
      "CONTRIBUTING FACTOR VEHICLE 5          0\n",
      "VEHICLE TYPE CODE 1                 9697\n",
      "VEHICLE TYPE CODE 2               275355\n",
      "VEHICLE TYPE CODE 3              1316958\n",
      "VEHICLE TYPE CODE 4              1380810\n",
      "VEHICLE TYPE CODE 5              1394844\n",
      "dtype: int64\n"
     ]
    }
   ],
   "source": [
    "missing_values = df.isnull().sum()\n",
    "print(missing_values)"
   ]
  },
  {
   "cell_type": "markdown",
   "id": "2c34c437",
   "metadata": {},
   "source": [
    "------"
   ]
  },
  {
   "cell_type": "markdown",
   "id": "da2072dc",
   "metadata": {},
   "source": [
    "### VEHICLE TYPE CODE 1\n",
    "### Replace it with \"Unspecified\""
   ]
  },
  {
   "cell_type": "code",
   "execution_count": 32,
   "id": "30cd423d",
   "metadata": {},
   "outputs": [
    {
     "name": "stdout",
     "output_type": "stream",
     "text": [
      "Number of rows where VEHICLE TYPE CODE 1 is null and VEHICLE TYPE CODE 2-5 are also null: 9692\n"
     ]
    }
   ],
   "source": [
    "# Create a mask to check if \"VEHICLE TYPE CODE 1\" is null and \"VEHICLE TYPE CODE 2-5\" are also null\n",
    "mask = df['VEHICLE TYPE CODE 1'].isnull() & \\\n",
    "       df['VEHICLE TYPE CODE 2'].isnull() & \\\n",
    "       df['VEHICLE TYPE CODE 3'].isnull() & \\\n",
    "       df['VEHICLE TYPE CODE 4'].isnull() & \\\n",
    "       df['VEHICLE TYPE CODE 5'].isnull()\n",
    "\n",
    "# Count the number of rows where \"VEHICLE TYPE CODE 1\" is null and \"VEHICLE TYPE CODE 2-5\" are also null\n",
    "count = mask.sum()\n",
    "\n",
    "print(f\"Number of rows where VEHICLE TYPE CODE 1 is null and VEHICLE TYPE CODE 2-5 are also null: {count}\")\n"
   ]
  },
  {
   "cell_type": "code",
   "execution_count": 33,
   "id": "0dc85baf",
   "metadata": {},
   "outputs": [],
   "source": [
    "# Create a mask to check if \"VEHICLE TYPE CODE 1\" is null and \"VEHICLE TYPE CODE 2-5\" are also null\n",
    "mask = df['VEHICLE TYPE CODE 1'].isnull() & \\\n",
    "       df['VEHICLE TYPE CODE 2'].isnull() & \\\n",
    "       df['VEHICLE TYPE CODE 3'].isnull() & \\\n",
    "       df['VEHICLE TYPE CODE 4'].isnull() & \\\n",
    "       df['VEHICLE TYPE CODE 5'].isnull()\n",
    "\n",
    "# Replace null values in \"VEHICLE TYPE CODE 1-5\" with 'Unspecified' when the mask is True\n",
    "df.loc[mask, ['VEHICLE TYPE CODE 1', 'VEHICLE TYPE CODE 2', 'VEHICLE TYPE CODE 3', 'VEHICLE TYPE CODE 4', 'VEHICLE TYPE CODE 5']] = 'Unspecified'\n"
   ]
  },
  {
   "cell_type": "code",
   "execution_count": 34,
   "id": "0e08b2f7",
   "metadata": {},
   "outputs": [
    {
     "name": "stdout",
     "output_type": "stream",
     "text": [
      "CRASH DATE                             0\n",
      "CRASH TIME                             0\n",
      "BOROUGH                                0\n",
      "ZIP CODE                               0\n",
      "NUMBER OF PERSONS INJURED              0\n",
      "NUMBER OF PERSONS KILLED               0\n",
      "NUMBER OF PEDESTRIANS INJURED          0\n",
      "NUMBER OF PEDESTRIANS KILLED           0\n",
      "NUMBER OF CYCLIST INJURED              0\n",
      "NUMBER OF CYCLIST KILLED               0\n",
      "NUMBER OF MOTORIST INJURED             0\n",
      "NUMBER OF MOTORIST KILLED              0\n",
      "CONTRIBUTING FACTOR VEHICLE 1          0\n",
      "CONTRIBUTING FACTOR VEHICLE 2          0\n",
      "CONTRIBUTING FACTOR VEHICLE 3          0\n",
      "CONTRIBUTING FACTOR VEHICLE 4          0\n",
      "CONTRIBUTING FACTOR VEHICLE 5          0\n",
      "VEHICLE TYPE CODE 1                    5\n",
      "VEHICLE TYPE CODE 2               265663\n",
      "VEHICLE TYPE CODE 3              1307266\n",
      "VEHICLE TYPE CODE 4              1371118\n",
      "VEHICLE TYPE CODE 5              1385152\n",
      "dtype: int64\n"
     ]
    }
   ],
   "source": [
    "missing_values = df.isnull().sum()\n",
    "print(missing_values)"
   ]
  },
  {
   "cell_type": "markdown",
   "id": "e4dea243",
   "metadata": {},
   "source": [
    "--- "
   ]
  },
  {
   "cell_type": "markdown",
   "id": "fc208155",
   "metadata": {},
   "source": [
    "### VEHICLE TYPE CODE 2\n",
    "### Replace it with \"Unspecified\""
   ]
  },
  {
   "cell_type": "code",
   "execution_count": 35,
   "id": "0b7ab6c9",
   "metadata": {},
   "outputs": [
    {
     "name": "stdout",
     "output_type": "stream",
     "text": [
      "CRASH DATE                             0\n",
      "CRASH TIME                             0\n",
      "BOROUGH                                0\n",
      "ZIP CODE                               0\n",
      "NUMBER OF PERSONS INJURED              0\n",
      "NUMBER OF PERSONS KILLED               0\n",
      "NUMBER OF PEDESTRIANS INJURED          0\n",
      "NUMBER OF PEDESTRIANS KILLED           0\n",
      "NUMBER OF CYCLIST INJURED              0\n",
      "NUMBER OF CYCLIST KILLED               0\n",
      "NUMBER OF MOTORIST INJURED             0\n",
      "NUMBER OF MOTORIST KILLED              0\n",
      "CONTRIBUTING FACTOR VEHICLE 1          0\n",
      "CONTRIBUTING FACTOR VEHICLE 2          0\n",
      "CONTRIBUTING FACTOR VEHICLE 3          0\n",
      "CONTRIBUTING FACTOR VEHICLE 4          0\n",
      "CONTRIBUTING FACTOR VEHICLE 5          0\n",
      "VEHICLE TYPE CODE 1                    5\n",
      "VEHICLE TYPE CODE 2               265663\n",
      "VEHICLE TYPE CODE 3              1307266\n",
      "VEHICLE TYPE CODE 4              1371118\n",
      "VEHICLE TYPE CODE 5              1385152\n",
      "dtype: int64\n"
     ]
    }
   ],
   "source": [
    "missing_values = df.isnull().sum()\n",
    "print(missing_values)"
   ]
  },
  {
   "cell_type": "code",
   "execution_count": 36,
   "id": "9359878a",
   "metadata": {},
   "outputs": [],
   "source": [
    "# Remove rows with null values in the \"VEHICLE TYPE CODE 1\" column\n",
    "df = df.dropna(subset=['VEHICLE TYPE CODE 1'])\n"
   ]
  },
  {
   "cell_type": "code",
   "execution_count": 37,
   "id": "27cb2e79",
   "metadata": {},
   "outputs": [
    {
     "name": "stdout",
     "output_type": "stream",
     "text": [
      "Number of rows where VEHICLE TYPE CODE 2 is null and VEHICLE TYPE CODE 3-5 are also null: 265663\n"
     ]
    }
   ],
   "source": [
    "# Create a mask to check if \"VEHICLE TYPE CODE 2\" is null and \"VEHICLE TYPE CODE 3-5\" are also null\n",
    "mask = df['VEHICLE TYPE CODE 2'].isnull() & \\\n",
    "       df['VEHICLE TYPE CODE 3'].isnull() & \\\n",
    "       df['VEHICLE TYPE CODE 4'].isnull() & \\\n",
    "       df['VEHICLE TYPE CODE 5'].isnull()\n",
    "\n",
    "# Count the number of rows where \"VEHICLE TYPE CODE 2\" is null and \"VEHICLE TYPE CODE 3-5\" are also null\n",
    "count = mask.sum()\n",
    "\n",
    "print(f\"Number of rows where VEHICLE TYPE CODE 2 is null and VEHICLE TYPE CODE 3-5 are also null: {count}\")\n"
   ]
  },
  {
   "cell_type": "code",
   "execution_count": 38,
   "id": "b4898997",
   "metadata": {},
   "outputs": [],
   "source": [
    "# Create a mask to check if \"VEHICLE TYPE CODE 2\" is null and \"VEHICLE TYPE CODE 3-5\" are also null\n",
    "mask = df['VEHICLE TYPE CODE 2'].isnull() & \\\n",
    "       df['VEHICLE TYPE CODE 3'].isnull() & \\\n",
    "       df['VEHICLE TYPE CODE 4'].isnull() & \\\n",
    "       df['VEHICLE TYPE CODE 5'].isnull()\n",
    "\n",
    "# Replace null values in \"VEHICLE TYPE CODE 2-5\" with 0 when the mask is True\n",
    "df.loc[mask, ['VEHICLE TYPE CODE 2', 'VEHICLE TYPE CODE 3', 'VEHICLE TYPE CODE 4', 'VEHICLE TYPE CODE 5']] = 'Unspecified'\n"
   ]
  },
  {
   "cell_type": "code",
   "execution_count": 39,
   "id": "85d1d1f2",
   "metadata": {},
   "outputs": [
    {
     "name": "stdout",
     "output_type": "stream",
     "text": [
      "CRASH DATE                             0\n",
      "CRASH TIME                             0\n",
      "BOROUGH                                0\n",
      "ZIP CODE                               0\n",
      "NUMBER OF PERSONS INJURED              0\n",
      "NUMBER OF PERSONS KILLED               0\n",
      "NUMBER OF PEDESTRIANS INJURED          0\n",
      "NUMBER OF PEDESTRIANS KILLED           0\n",
      "NUMBER OF CYCLIST INJURED              0\n",
      "NUMBER OF CYCLIST KILLED               0\n",
      "NUMBER OF MOTORIST INJURED             0\n",
      "NUMBER OF MOTORIST KILLED              0\n",
      "CONTRIBUTING FACTOR VEHICLE 1          0\n",
      "CONTRIBUTING FACTOR VEHICLE 2          0\n",
      "CONTRIBUTING FACTOR VEHICLE 3          0\n",
      "CONTRIBUTING FACTOR VEHICLE 4          0\n",
      "CONTRIBUTING FACTOR VEHICLE 5          0\n",
      "VEHICLE TYPE CODE 1                    0\n",
      "VEHICLE TYPE CODE 2                    0\n",
      "VEHICLE TYPE CODE 3              1041598\n",
      "VEHICLE TYPE CODE 4              1105450\n",
      "VEHICLE TYPE CODE 5              1119484\n",
      "dtype: int64\n"
     ]
    }
   ],
   "source": [
    "missing_values = df.isnull().sum()\n",
    "print(missing_values)"
   ]
  },
  {
   "cell_type": "markdown",
   "id": "c8faa503",
   "metadata": {},
   "source": [
    "-----"
   ]
  },
  {
   "cell_type": "markdown",
   "id": "f9c42b44",
   "metadata": {},
   "source": [
    "### VEHICLE TYPE CODE 3\n",
    "### Replace it with \"Unspecified\""
   ]
  },
  {
   "cell_type": "code",
   "execution_count": 40,
   "id": "bb949d62",
   "metadata": {},
   "outputs": [
    {
     "name": "stdout",
     "output_type": "stream",
     "text": [
      "Number of rows where VEHICLE TYPE CODE 3 is null and VEHICLE TYPE CODE 4-5 are also null: 1041598\n"
     ]
    }
   ],
   "source": [
    "# Create a mask to check if \"VEHICLE TYPE CODE 3\" is null and \"VEHICLE TYPE CODE 4-5\" are also null\n",
    "mask = df['VEHICLE TYPE CODE 3'].isnull() & \\\n",
    "       df['VEHICLE TYPE CODE 4'].isnull() & \\\n",
    "       df['VEHICLE TYPE CODE 5'].isnull()\n",
    "\n",
    "# Count the number of rows where \"VEHICLE TYPE CODE 3\" is null and \"VEHICLE TYPE CODE 4-5\" are also null\n",
    "count = mask.sum()\n",
    "\n",
    "print(f\"Number of rows where VEHICLE TYPE CODE 3 is null and VEHICLE TYPE CODE 4-5 are also null: {count}\")\n"
   ]
  },
  {
   "cell_type": "code",
   "execution_count": 41,
   "id": "5110dbdd",
   "metadata": {},
   "outputs": [],
   "source": [
    "# Create a mask to check if \"VEHICLE TYPE CODE 3\" is null and \"VEHICLE TYPE CODE 4-5\" are also null\n",
    "mask = df['VEHICLE TYPE CODE 3'].isnull() & \\\n",
    "       df['VEHICLE TYPE CODE 4'].isnull() & \\\n",
    "       df['VEHICLE TYPE CODE 5'].isnull()\n",
    "\n",
    "# Replace null values in \"VEHICLE TYPE CODE 2-5\" with 0 when the mask is True\n",
    "df.loc[mask, ['VEHICLE TYPE CODE 3', 'VEHICLE TYPE CODE 4', 'VEHICLE TYPE CODE 5']] = 'Unspecified'\n"
   ]
  },
  {
   "cell_type": "code",
   "execution_count": 42,
   "id": "76adfdec",
   "metadata": {},
   "outputs": [
    {
     "name": "stdout",
     "output_type": "stream",
     "text": [
      "CRASH DATE                           0\n",
      "CRASH TIME                           0\n",
      "BOROUGH                              0\n",
      "ZIP CODE                             0\n",
      "NUMBER OF PERSONS INJURED            0\n",
      "NUMBER OF PERSONS KILLED             0\n",
      "NUMBER OF PEDESTRIANS INJURED        0\n",
      "NUMBER OF PEDESTRIANS KILLED         0\n",
      "NUMBER OF CYCLIST INJURED            0\n",
      "NUMBER OF CYCLIST KILLED             0\n",
      "NUMBER OF MOTORIST INJURED           0\n",
      "NUMBER OF MOTORIST KILLED            0\n",
      "CONTRIBUTING FACTOR VEHICLE 1        0\n",
      "CONTRIBUTING FACTOR VEHICLE 2        0\n",
      "CONTRIBUTING FACTOR VEHICLE 3        0\n",
      "CONTRIBUTING FACTOR VEHICLE 4        0\n",
      "CONTRIBUTING FACTOR VEHICLE 5        0\n",
      "VEHICLE TYPE CODE 1                  0\n",
      "VEHICLE TYPE CODE 2                  0\n",
      "VEHICLE TYPE CODE 3                  0\n",
      "VEHICLE TYPE CODE 4              63852\n",
      "VEHICLE TYPE CODE 5              77886\n",
      "dtype: int64\n"
     ]
    }
   ],
   "source": [
    "missing_values = df.isnull().sum()\n",
    "print(missing_values)"
   ]
  },
  {
   "cell_type": "markdown",
   "id": "9d1c552c",
   "metadata": {},
   "source": [
    "------"
   ]
  },
  {
   "cell_type": "markdown",
   "id": "679d24f0",
   "metadata": {},
   "source": [
    "### VEHICLE TYPE CODE 4\n",
    "### Replace it with \"Unspecified\""
   ]
  },
  {
   "cell_type": "code",
   "execution_count": 43,
   "id": "87c2facf",
   "metadata": {},
   "outputs": [
    {
     "name": "stdout",
     "output_type": "stream",
     "text": [
      "Number of rows where VEHICLE TYPE CODE 4 is null and VEHICLE TYPE CODE 5 is also null: 63852\n"
     ]
    }
   ],
   "source": [
    "# Create a mask to check if \"VEHICLE TYPE CODE 4\" is null and \"VEHICLE TYPE CODE 5\" is also null\n",
    "mask = df['VEHICLE TYPE CODE 4'].isnull() & df['VEHICLE TYPE CODE 5'].isnull()\n",
    "\n",
    "# Count the number of rows where \"VEHICLE TYPE CODE 4\" is null and \"VEHICLE TYPE CODE 5\" is also null\n",
    "count = mask.sum()\n",
    "\n",
    "print(f\"Number of rows where VEHICLE TYPE CODE 4 is null and VEHICLE TYPE CODE 5 is also null: {count}\")\n"
   ]
  },
  {
   "cell_type": "code",
   "execution_count": 44,
   "id": "9a9b50ff",
   "metadata": {},
   "outputs": [],
   "source": [
    "# Create a mask to check if \"VEHICLE TYPE CODE 4\" and \"VEHICLE TYPE CODE 5\" are null\n",
    "mask = df['VEHICLE TYPE CODE 4'].isnull() & df['VEHICLE TYPE CODE 5'].isnull()\n",
    "\n",
    "# Replace null values in \"VEHICLE TYPE CODE 2-5\" with 0 when the mask is True\n",
    "df.loc[mask, ['VEHICLE TYPE CODE 4', 'VEHICLE TYPE CODE 5']] = 'Unspecified'\n",
    "\n"
   ]
  },
  {
   "cell_type": "code",
   "execution_count": 45,
   "id": "b1a0d62a",
   "metadata": {},
   "outputs": [
    {
     "name": "stdout",
     "output_type": "stream",
     "text": [
      "CRASH DATE                           0\n",
      "CRASH TIME                           0\n",
      "BOROUGH                              0\n",
      "ZIP CODE                             0\n",
      "NUMBER OF PERSONS INJURED            0\n",
      "NUMBER OF PERSONS KILLED             0\n",
      "NUMBER OF PEDESTRIANS INJURED        0\n",
      "NUMBER OF PEDESTRIANS KILLED         0\n",
      "NUMBER OF CYCLIST INJURED            0\n",
      "NUMBER OF CYCLIST KILLED             0\n",
      "NUMBER OF MOTORIST INJURED           0\n",
      "NUMBER OF MOTORIST KILLED            0\n",
      "CONTRIBUTING FACTOR VEHICLE 1        0\n",
      "CONTRIBUTING FACTOR VEHICLE 2        0\n",
      "CONTRIBUTING FACTOR VEHICLE 3        0\n",
      "CONTRIBUTING FACTOR VEHICLE 4        0\n",
      "CONTRIBUTING FACTOR VEHICLE 5        0\n",
      "VEHICLE TYPE CODE 1                  0\n",
      "VEHICLE TYPE CODE 2                  0\n",
      "VEHICLE TYPE CODE 3                  0\n",
      "VEHICLE TYPE CODE 4                  0\n",
      "VEHICLE TYPE CODE 5              14034\n",
      "dtype: int64\n"
     ]
    }
   ],
   "source": [
    "missing_values = df.isnull().sum()\n",
    "print(missing_values)"
   ]
  },
  {
   "cell_type": "markdown",
   "id": "bd5e935f",
   "metadata": {},
   "source": [
    "----"
   ]
  },
  {
   "cell_type": "markdown",
   "id": "43e5f63e",
   "metadata": {},
   "source": [
    "### VEHICLE TYPE CODE 5\n",
    "### Replace it with \"Unspecified\""
   ]
  },
  {
   "cell_type": "code",
   "execution_count": 46,
   "id": "d70be9c1",
   "metadata": {},
   "outputs": [
    {
     "name": "stdout",
     "output_type": "stream",
     "text": [
      "Number of times VEHICLE TYPE CODE 5 is null and at least one of VEHICLE TYPE CODE 1-4 is not null: 14034\n"
     ]
    }
   ],
   "source": [
    "# Create a mask to check if at least one of \"VEHICLE TYPE CODE 1-4\" is not null\n",
    "mask_vehicle_type_not_null = ~df[['VEHICLE TYPE CODE 1', 'VEHICLE TYPE CODE 2', 'VEHICLE TYPE CODE 3', 'VEHICLE TYPE CODE 4']].isnull().any(axis=1)\n",
    "\n",
    "# Create a mask to check if \"VEHICLE TYPE CODE 5\" is null\n",
    "mask_vehicle_type_5_null = df['VEHICLE TYPE CODE 5'].isnull()\n",
    "\n",
    "# Combine the masks using the AND operator (&)\n",
    "combined_mask = mask_vehicle_type_5_null & mask_vehicle_type_not_null\n",
    "\n",
    "# Count the number of cases that meet the condition\n",
    "count_cases = combined_mask.sum()\n",
    "\n",
    "print(f\"Number of times VEHICLE TYPE CODE 5 is null and at least one of VEHICLE TYPE CODE 1-4 is not null: {count_cases}\")\n"
   ]
  },
  {
   "cell_type": "code",
   "execution_count": 47,
   "id": "f7fa23d7",
   "metadata": {},
   "outputs": [],
   "source": [
    "df['VEHICLE TYPE CODE 5'].fillna('Unspecified', inplace=True)\n"
   ]
  },
  {
   "cell_type": "code",
   "execution_count": 48,
   "id": "8d9c1cd8",
   "metadata": {},
   "outputs": [
    {
     "name": "stdout",
     "output_type": "stream",
     "text": [
      "CRASH DATE                       0\n",
      "CRASH TIME                       0\n",
      "BOROUGH                          0\n",
      "ZIP CODE                         0\n",
      "NUMBER OF PERSONS INJURED        0\n",
      "NUMBER OF PERSONS KILLED         0\n",
      "NUMBER OF PEDESTRIANS INJURED    0\n",
      "NUMBER OF PEDESTRIANS KILLED     0\n",
      "NUMBER OF CYCLIST INJURED        0\n",
      "NUMBER OF CYCLIST KILLED         0\n",
      "NUMBER OF MOTORIST INJURED       0\n",
      "NUMBER OF MOTORIST KILLED        0\n",
      "CONTRIBUTING FACTOR VEHICLE 1    0\n",
      "CONTRIBUTING FACTOR VEHICLE 2    0\n",
      "CONTRIBUTING FACTOR VEHICLE 3    0\n",
      "CONTRIBUTING FACTOR VEHICLE 4    0\n",
      "CONTRIBUTING FACTOR VEHICLE 5    0\n",
      "VEHICLE TYPE CODE 1              0\n",
      "VEHICLE TYPE CODE 2              0\n",
      "VEHICLE TYPE CODE 3              0\n",
      "VEHICLE TYPE CODE 4              0\n",
      "VEHICLE TYPE CODE 5              0\n",
      "dtype: int64\n"
     ]
    }
   ],
   "source": [
    "missing_values = df.isnull().sum()\n",
    "print(missing_values)"
   ]
  },
  {
   "cell_type": "markdown",
   "id": "e0997192",
   "metadata": {},
   "source": [
    "## DataFrame Summary after Data Cleaning"
   ]
  },
  {
   "cell_type": "code",
   "execution_count": 49,
   "id": "4eba80ff",
   "metadata": {},
   "outputs": [
    {
     "name": "stdout",
     "output_type": "stream",
     "text": [
      "<class 'pandas.core.frame.DataFrame'>\n",
      "Index: 1400451 entries, 0 to 1400481\n",
      "Data columns (total 22 columns):\n",
      " #   Column                         Non-Null Count    Dtype         \n",
      "---  ------                         --------------    -----         \n",
      " 0   CRASH DATE                     1400451 non-null  datetime64[ns]\n",
      " 1   CRASH TIME                     1400451 non-null  object        \n",
      " 2   BOROUGH                        1400451 non-null  object        \n",
      " 3   ZIP CODE                       1400451 non-null  object        \n",
      " 4   NUMBER OF PERSONS INJURED      1400451 non-null  float64       \n",
      " 5   NUMBER OF PERSONS KILLED       1400451 non-null  float64       \n",
      " 6   NUMBER OF PEDESTRIANS INJURED  1400451 non-null  int64         \n",
      " 7   NUMBER OF PEDESTRIANS KILLED   1400451 non-null  int64         \n",
      " 8   NUMBER OF CYCLIST INJURED      1400451 non-null  int64         \n",
      " 9   NUMBER OF CYCLIST KILLED       1400451 non-null  int64         \n",
      " 10  NUMBER OF MOTORIST INJURED     1400451 non-null  int64         \n",
      " 11  NUMBER OF MOTORIST KILLED      1400451 non-null  int64         \n",
      " 12  CONTRIBUTING FACTOR VEHICLE 1  1400451 non-null  object        \n",
      " 13  CONTRIBUTING FACTOR VEHICLE 2  1400451 non-null  object        \n",
      " 14  CONTRIBUTING FACTOR VEHICLE 3  1400451 non-null  object        \n",
      " 15  CONTRIBUTING FACTOR VEHICLE 4  1400451 non-null  object        \n",
      " 16  CONTRIBUTING FACTOR VEHICLE 5  1400451 non-null  object        \n",
      " 17  VEHICLE TYPE CODE 1            1400451 non-null  object        \n",
      " 18  VEHICLE TYPE CODE 2            1400451 non-null  object        \n",
      " 19  VEHICLE TYPE CODE 3            1400451 non-null  object        \n",
      " 20  VEHICLE TYPE CODE 4            1400451 non-null  object        \n",
      " 21  VEHICLE TYPE CODE 5            1400451 non-null  object        \n",
      "dtypes: datetime64[ns](1), float64(2), int64(6), object(13)\n",
      "memory usage: 245.7+ MB\n"
     ]
    }
   ],
   "source": [
    "df.info()"
   ]
  },
  {
   "cell_type": "code",
   "execution_count": 50,
   "id": "890bce36",
   "metadata": {},
   "outputs": [],
   "source": [
    "df.to_csv('Motor_Vehicle_Collisions_-_Crashes_cleaned.csv', index=False)  # Export without the DataFrame index"
   ]
  }
 ],
 "metadata": {
  "kernelspec": {
   "display_name": "Python 3 (ipykernel)",
   "language": "python",
   "name": "python3"
  },
  "language_info": {
   "codemirror_mode": {
    "name": "ipython",
    "version": 3
   },
   "file_extension": ".py",
   "mimetype": "text/x-python",
   "name": "python",
   "nbconvert_exporter": "python",
   "pygments_lexer": "ipython3",
   "version": "3.11.5"
  }
 },
 "nbformat": 4,
 "nbformat_minor": 5
}
